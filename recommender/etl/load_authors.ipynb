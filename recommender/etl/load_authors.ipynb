{
 "cells": [
  {
   "cell_type": "code",
   "execution_count": 8,
   "metadata": {},
   "outputs": [],
   "source": [
    "import psycopg2\n",
    "import json\n",
    "import pandas as pd \n",
    "\n"
   ]
  },
  {
   "cell_type": "code",
   "execution_count": 9,
   "metadata": {},
   "outputs": [],
   "source": [
    "conn = psycopg2.connect(\n",
    "        dbname='book_lens',\n",
    "        user='postgres',\n",
    "        password='password',\n",
    "        host='localhost',\n",
    "        port='5433'\n",
    "    )\n",
    "cursor = conn.cursor()"
   ]
  },
  {
   "cell_type": "code",
   "execution_count": 12,
   "metadata": {},
   "outputs": [
    {
     "name": "stdout",
     "output_type": "stream",
     "text": [
      "[('e63f6c0e-3da2-4e1b-bc96-f0fca13991d7', '123456789012', 'the way of kings', 'Brandon Sanderson', 1000, 22000, datetime.datetime(2024, 10, 5, 22, 27, 39, 377314), datetime.datetime(2024, 10, 5, 22, 27, 39, 377314), None, None, None, None, None, None, None), ('850f652b-5bed-428c-88d9-6479e638172b', '9780765326362', 'words of radiance', 'Brandon Sanderson', 1087, 989, datetime.datetime(2024, 10, 5, 22, 33, 56, 801446), datetime.datetime(2024, 10, 5, 22, 33, 56, 801446), None, None, None, None, None, None, None), ('41e8cdb0-0a21-405a-91a5-6a75c0ff4184', '9781594201677', 'While America Aged', 'Roger Lowenstein', 288, 1086, datetime.datetime(2024, 10, 5, 22, 39, 7, 187089), datetime.datetime(2024, 10, 5, 22, 39, 7, 187089), None, None, None, None, None, None, None)]\n"
     ]
    }
   ],
   "source": [
    "cursor.execute(\"select * from books;\")\n",
    "result = cursor.fetchall()\n",
    "print(result)\n"
   ]
  },
  {
   "cell_type": "code",
   "execution_count": 19,
   "metadata": {},
   "outputs": [
    {
     "data": {
      "text/plain": [
       "<psycopg2._psycopg.type 'UUID' at 0x11604ea70>"
      ]
     },
     "execution_count": 19,
     "metadata": {},
     "output_type": "execute_result"
    }
   ],
   "source": [
    "import psycopg2.extras\n",
    "\n",
    "\n",
    "psycopg2.extras.register_uuid()"
   ]
  },
  {
   "cell_type": "code",
   "execution_count": 21,
   "metadata": {},
   "outputs": [],
   "source": [
    "conn.rollback()"
   ]
  },
  {
   "cell_type": "code",
   "execution_count": 22,
   "metadata": {},
   "outputs": [],
   "source": [
    "with open(\"../data/goodreads_book_authors.json\", 'r') as f:\n",
    "        for line_number, line in enumerate(f, start=1):\n",
    "            try:\n",
    "                author = json.loads(line)\n",
    "                author_name = author['name']\n",
    "                auth_id = uuid.uuid4()\n",
    "\n",
    "                query = \"\"\"INSERT INTO authors (id, name) VALUES(%s, %s);\"\"\"\n",
    "\n",
    "                cursor.execute(query, (auth_id, author_name))\n",
    "                conn.commit()\n",
    "\n",
    "            except json.JSONDecodeError as e:\n",
    "                print(f\"Error decoding JSON on line {line_number}: {e}\")\n",
    "                continue  # Skip this line and proceed to the next one"
   ]
  },
  {
   "cell_type": "code",
   "execution_count": null,
   "metadata": {},
   "outputs": [],
   "source": []
  },
  {
   "cell_type": "code",
   "execution_count": 13,
   "metadata": {},
   "outputs": [],
   "source": [
    "import uuid"
   ]
  }
 ],
 "metadata": {
  "kernelspec": {
   "display_name": ".venv",
   "language": "python",
   "name": "python3"
  },
  "language_info": {
   "codemirror_mode": {
    "name": "ipython",
    "version": 3
   },
   "file_extension": ".py",
   "mimetype": "text/x-python",
   "name": "python",
   "nbconvert_exporter": "python",
   "pygments_lexer": "ipython3",
   "version": "3.12.7"
  }
 },
 "nbformat": 4,
 "nbformat_minor": 2
}
